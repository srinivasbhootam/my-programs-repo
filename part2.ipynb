{
 "cells": [
  {
   "cell_type": "code",
   "execution_count": 1,
   "id": "f9465c84-0b48-42b1-9317-51208392044c",
   "metadata": {},
   "outputs": [
    {
     "name": "stdout",
     "output_type": "stream",
     "text": [
      "2020 Toyota Corolla\n",
      "Mileage: 15000.5 miles\n",
      "Driving 200 miles. New mileage: 15200.5 miles\n",
      "2020 Toyota Corolla\n",
      "Mileage: 15200.5 miles\n"
     ]
    }
   ],
   "source": [
    "class Car:\n",
    "    def __init__(self, make, model, year, mileage):\n",
    "        self.make = make\n",
    "        self.model = model\n",
    "        self.year = year\n",
    "        self.mileage = mileage\n",
    " \n",
    "    def display_info(self):\n",
    "        print(f\"{self.year} {self.make} {self.model}\")\n",
    "        print(f\"Mileage: {self.mileage} miles\")\n",
    " \n",
    "    def drive(self, miles):\n",
    "        self.mileage += miles\n",
    "        print(f\"Driving {miles} miles. New mileage: {self.mileage} miles\")\n",
    "my_car = Car(\"Toyota\", \"Corolla\", 2020, 15000.5)\n",
    "my_car.display_info()\n",
    "my_car.drive(200)\n",
    "my_car.display_info()"
   ]
  },
  {
   "cell_type": "code",
   "execution_count": null,
   "id": "154688c2-360f-4b72-8e08-f0a7fa8b8d46",
   "metadata": {},
   "outputs": [],
   "source": []
  }
 ],
 "metadata": {
  "kernelspec": {
   "display_name": "Python 3 (ipykernel)",
   "language": "python",
   "name": "python3"
  },
  "language_info": {
   "codemirror_mode": {
    "name": "ipython",
    "version": 3
   },
   "file_extension": ".py",
   "mimetype": "text/x-python",
   "name": "python",
   "nbconvert_exporter": "python",
   "pygments_lexer": "ipython3",
   "version": "3.13.0"
  }
 },
 "nbformat": 4,
 "nbformat_minor": 5
}
