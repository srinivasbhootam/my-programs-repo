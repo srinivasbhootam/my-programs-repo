{
 "cells": [
  {
   "cell_type": "code",
   "execution_count": 1,
   "id": "9e915734-5f34-4474-bcc1-6edd888245a6",
   "metadata": {},
   "outputs": [
    {
     "name": "stdout",
     "output_type": "stream",
     "text": [
      "The square of 4 is 16\n"
     ]
    }
   ],
   "source": [
    "#Simple Python Program\n",
    "def square_number(number):\n",
    "    return number**2\n",
    "num = 4\n",
    "result = square_number(num)\n",
    "print(f'The square of {num} is {result}')"
   ]
  },
  {
   "cell_type": "code",
   "execution_count": null,
   "id": "5a08b313-fcd0-4d69-9ba7-f4b957042cc1",
   "metadata": {},
   "outputs": [],
   "source": []
  }
 ],
 "metadata": {
  "kernelspec": {
   "display_name": "Python 3 (ipykernel)",
   "language": "python",
   "name": "python3"
  },
  "language_info": {
   "codemirror_mode": {
    "name": "ipython",
    "version": 3
   },
   "file_extension": ".py",
   "mimetype": "text/x-python",
   "name": "python",
   "nbconvert_exporter": "python",
   "pygments_lexer": "ipython3",
   "version": "3.13.0"
  }
 },
 "nbformat": 4,
 "nbformat_minor": 5
}
