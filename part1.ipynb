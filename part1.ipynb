{
 "cells": [
  {
   "cell_type": "code",
   "execution_count": 4,
   "id": "3431cff3-aabb-48c8-9f36-69219ea299ac",
   "metadata": {},
   "outputs": [
    {
     "name": "stdout",
     "output_type": "stream",
     "text": [
      "Area of the rectangle: 27\n"
     ]
    }
   ],
   "source": [
    "##Write a Function to Calculate the Area of a Rectangle\n",
    "def calculate_area(length, width):\n",
    "    return length * width\n",
    "area = calculate_area(9, 3)\n",
    "print(f\"Area of the rectangle: {area}\")"
   ]
  },
  {
   "cell_type": "code",
   "execution_count": 5,
   "id": "b5158d69-fb34-48c9-a8ff-d0e0ed1e9c4c",
   "metadata": {},
   "outputs": [
    {
     "name": "stdout",
     "output_type": "stream",
     "text": [
      "Is 9 prime? False\n"
     ]
    }
   ],
   "source": [
    "def is_prime(n):\n",
    "    if n <= 1:\n",
    "        return False\n",
    "    for i in range(2, n):\n",
    "        if n % i == 0:\n",
    "            return False\n",
    "    return True\n",
    "prime_check = is_prime(9)\n",
    "print(f\"Is 9 prime? {prime_check}\")"
   ]
  },
  {
   "cell_type": "code",
   "execution_count": 6,
   "id": "13828245-a43c-4035-942e-f33e51bce866",
   "metadata": {
    "scrolled": true
   },
   "outputs": [
    {
     "name": "stdout",
     "output_type": "stream",
     "text": [
      "{'P': 2, 'y': 1, 't': 1, 'h': 1, 'o': 2, 'n': 1, ' ': 1, 'r': 2, 'g': 1, 'a': 1, 'm': 1}\n"
     ]
    }
   ],
   "source": [
    "def char_count(s):\n",
    "    count = {}\n",
    "    for char in s:\n",
    "        if char in count:\n",
    "            count[char] += 1\n",
    "        else:\n",
    "            count[char] = 1\n",
    "    return count\n",
    "result = char_count(\"Python Program\")\n",
    "print(result)  # Output: {'h': 1, 'e': 1, 'l': 3, 'o': 2, ' ': 1, 'w': 1, 'r': 1, 'd': 1}"
   ]
  },
  {
   "cell_type": "code",
   "execution_count": null,
   "id": "9137cf1e-b093-4b40-9270-df7edfe57501",
   "metadata": {},
   "outputs": [],
   "source": []
  }
 ],
 "metadata": {
  "kernelspec": {
   "display_name": "Python 3 (ipykernel)",
   "language": "python",
   "name": "python3"
  },
  "language_info": {
   "codemirror_mode": {
    "name": "ipython",
    "version": 3
   },
   "file_extension": ".py",
   "mimetype": "text/x-python",
   "name": "python",
   "nbconvert_exporter": "python",
   "pygments_lexer": "ipython3",
   "version": "3.13.0"
  }
 },
 "nbformat": 4,
 "nbformat_minor": 5
}
