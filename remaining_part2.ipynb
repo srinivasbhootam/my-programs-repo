{
 "cells": [
  {
   "cell_type": "code",
   "execution_count": 1,
   "id": "b4d2e092-1dda-47bd-a2c9-929ee88b37df",
   "metadata": {},
   "outputs": [
    {
     "name": "stdout",
     "output_type": "stream",
     "text": [
      "Title: To Kill a Mockingbird\n",
      "Author: Harper Lee\n",
      "Year: 1960\n",
      "Price: $18.99\n",
      "Discount applied. New price: $17.09\n",
      "Title: To Kill a Mockingbird\n",
      "Author: Harper Lee\n",
      "Year: 1960\n",
      "Price: $17.09\n"
     ]
    }
   ],
   "source": [
    "class Book:\n",
    "    def __init__(self, title, author, year, price):\n",
    "        self.title = title\n",
    "        self.author = author\n",
    "        self.year = year\n",
    "        self.price = price\n",
    " \n",
    "    def display_info(self):\n",
    "        print(f\"Title: {self.title}\")\n",
    "        print(f\"Author: {self.author}\")\n",
    "        print(f\"Year: {self.year}\")\n",
    "        print(f\"Price: ${self.price:.2f}\")\n",
    " \n",
    "    def apply_discount(self, percentage):\n",
    "        discount = self.price * percentage\n",
    "        self.price -= discount\n",
    "        print(f\"Discount applied. New price: ${self.price:.2f}\")\n",
    "my_book = Book(\"To Kill a Mockingbird\", \"Harper Lee\", 1960, 18.99)\n",
    "my_book.display_info()\n",
    "my_book.apply_discount(0.1)\n",
    "my_book.display_info()"
   ]
  },
  {
   "cell_type": "code",
   "execution_count": null,
   "id": "a32faf49-5f94-4e2d-bb21-979757a201f4",
   "metadata": {},
   "outputs": [],
   "source": []
  }
 ],
 "metadata": {
  "kernelspec": {
   "display_name": "Python 3 (ipykernel)",
   "language": "python",
   "name": "python3"
  },
  "language_info": {
   "codemirror_mode": {
    "name": "ipython",
    "version": 3
   },
   "file_extension": ".py",
   "mimetype": "text/x-python",
   "name": "python",
   "nbconvert_exporter": "python",
   "pygments_lexer": "ipython3",
   "version": "3.13.0"
  }
 },
 "nbformat": 4,
 "nbformat_minor": 5
}
